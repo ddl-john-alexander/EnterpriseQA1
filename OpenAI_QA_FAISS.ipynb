{
 "cells": [
  {
   "cell_type": "code",
   "execution_count": 1,
   "id": "581443cd-3bf2-492c-9d44-652c4090e634",
   "metadata": {
    "tags": []
   },
   "outputs": [],
   "source": [
    "# Load the libraries that are needed\n",
    "from langchain.document_loaders import PyPDFLoader, PyPDFDirectoryLoader\n",
    "from langchain.text_splitter import RecursiveCharacterTextSplitter\n",
    "\n",
    "import os\n",
    "import random"
   ]
  },
  {
   "cell_type": "code",
   "execution_count": 2,
   "id": "60382de7-437f-4521-9a6a-5c0af2daa292",
   "metadata": {
    "tags": []
   },
   "outputs": [],
   "source": [
    "# Load the document that you need to parse, please change the location to where the pdf resides\n",
    "\n",
    "# Load 1 PDF file\n",
    "# loader = PyPDFLoader(\"/mnt/data/RAG/Benefit_Options.pdf\")\n",
    "# Load an entire folder\n",
    "loader = PyPDFDirectoryLoader(\"/mnt/data/EnterpriseQA1/\")\n",
    "texts = loader.load_and_split(RecursiveCharacterTextSplitter(chunk_size=500, chunk_overlap=100))"
   ]
  },
  {
   "cell_type": "code",
   "execution_count": 3,
   "id": "382a6f96-1fff-41f1-a9a6-17a0f6c248a6",
   "metadata": {
    "tags": []
   },
   "outputs": [
    {
     "name": "stdout",
     "output_type": "stream",
     "text": [
      "There are 148 pages in the document\n"
     ]
    }
   ],
   "source": [
    "print(f\"There are {len(texts)} pages in the document\")"
   ]
  },
  {
   "cell_type": "code",
   "execution_count": 4,
   "id": "9aec2937-6589-4db0-b91d-af964b08c7e4",
   "metadata": {
    "tags": []
   },
   "outputs": [
    {
     "name": "stdout",
     "output_type": "stream",
     "text": [
      "page_content='The calculations assume no shares were bought or sold during the period. Y our actual costs may\\nhave been higher or lower, depending on the amount of your investment and the timing of anypurchases or redemptions.\\nY ou can find more information about the fund’s expenses, including annual expense ratios, in the' metadata={'source': '/mnt/data/EnterpriseQA1/Select_Global_Value_Fund.pdf', 'page': 5}\n"
     ]
    }
   ],
   "source": [
    "# Pick a sample page\n",
    "print(texts[random.randint(0, len(texts))])"
   ]
  },
  {
   "cell_type": "code",
   "execution_count": 6,
   "id": "a0931124-7047-4fe8-9113-c84e07743164",
   "metadata": {
    "tags": []
   },
   "outputs": [],
   "source": [
    "#Create embeddings of your documents to get ready for semantic search\n",
    "\n",
    "from langchain.vectorstores import FAISS\n",
    "from langchain.embeddings.openai import OpenAIEmbeddings\n",
    "from langchain.chains.qa_with_sources import load_qa_with_sources_chain\n",
    "from langchain.chains import RetrievalQA\n",
    "from langchain.chat_models import ChatOpenAI\n",
    "from langchain.llms import OpenAI\n",
    "import pickle\n"
   ]
  },
  {
   "cell_type": "code",
   "execution_count": 7,
   "id": "f0c0d06f-3daa-4c82-9e91-7db8739227c0",
   "metadata": {
    "tags": []
   },
   "outputs": [],
   "source": [
    "# Read your OpenAI key from the environment\n",
    "\n",
    "OPENAI_API_KEY = os.getenv('OPENAI_API_KEY') \n",
    "embeddings = OpenAIEmbeddings(openai_api_key=OPENAI_API_KEY)"
   ]
  },
  {
   "cell_type": "code",
   "execution_count": 8,
   "id": "18942653-32c7-4a78-ab05-db1c6b76aabb",
   "metadata": {
    "tags": []
   },
   "outputs": [],
   "source": [
    "# Index and store the embeddings locally in a pickle file\n",
    "store = FAISS.from_texts([t.page_content for t in texts], embeddings)\n",
    "with open(\"fininfo.pkl\", \"wb\") as f:\n",
    "    pickle.dump(store, f)\n"
   ]
  },
  {
   "cell_type": "code",
   "execution_count": null,
   "id": "96a1b246-4163-4c63-8b0e-7a9dca10d0b9",
   "metadata": {},
   "outputs": [],
   "source": []
  },
  {
   "cell_type": "code",
   "execution_count": 18,
   "id": "47ad3073-df19-4695-86ba-c61bf1256de0",
   "metadata": {
    "tags": []
   },
   "outputs": [
    {
     "data": {
      "text/plain": [
       "{'result': 'During the period ended October 31, 2022, the fund purchased $391,568,000 of investment securities and sold $67,382,000 of investment securities.'}"
      ]
     },
     "execution_count": 18,
     "metadata": {},
     "output_type": "execute_result"
    }
   ],
   "source": [
    "# Load the embeddings from the pickle file; change the location if needed \n",
    "if 'store' not in locals() or store is None:\n",
    "    with open(\"fininfo.pkl\", \"rb\") as f:\n",
    "        store = pickle.load(f)\n",
    "        \n",
    "qa = RetrievalQA.from_chain_type(llm=ChatOpenAI(model_name='gpt-4', temperature=0, openai_api_key=OPENAI_API_KEY), chain_type=\"stuff\", retriever=store.as_retriever())\n",
    "\n",
    "query = \"During the period ended October 31, 2022, What are the amounts of investment securities purchased and sold in the period?\"\n",
    "docs = store.similarity_search(query)\n",
    "qa({\"input_documents\": docs, \"query\": query}, return_only_outputs=True)"
   ]
  },
  {
   "cell_type": "code",
   "execution_count": null,
   "id": "71cbb486-400d-40bf-87b7-66bb1fd2026c",
   "metadata": {},
   "outputs": [],
   "source": []
  }
 ],
 "metadata": {
  "dca-init": "true",
  "kernelspec": {
   "display_name": "Python 3 (ipykernel)",
   "language": "python",
   "name": "python3"
  },
  "language_info": {
   "codemirror_mode": {
    "name": "ipython",
    "version": 3
   },
   "file_extension": ".py",
   "mimetype": "text/x-python",
   "name": "python",
   "nbconvert_exporter": "python",
   "pygments_lexer": "ipython3",
   "version": "3.8.10"
  }
 },
 "nbformat": 4,
 "nbformat_minor": 5
}
